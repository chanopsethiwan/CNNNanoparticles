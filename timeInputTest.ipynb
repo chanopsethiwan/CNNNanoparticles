{
 "cells": [
  {
   "cell_type": "code",
   "execution_count": 38,
   "metadata": {},
   "outputs": [],
   "source": [
    "import torch\n",
    "import torch.nn as nn\n",
    "import torchvision.transforms as transforms\n",
    "import matplotlib.pyplot as plt\n",
    "import torch.nn.functional as F\n",
    "from torchvision import datasets, transforms\n",
    "import numpy as np\n",
    "from torch.utils.data import Dataset, DataLoader, random_split"
   ]
  },
  {
   "cell_type": "code",
   "execution_count": 39,
   "metadata": {},
   "outputs": [],
   "source": [
    "device = torch.device('cuda' if torch.cuda.is_available() else 'cpu') #choose whether to use gpu or cpu\n"
   ]
  },
  {
   "cell_type": "code",
   "execution_count": 40,
   "metadata": {},
   "outputs": [],
   "source": [
    "# data_dir = r'C:\\Users\\Public\\PartIIB project 2023_2024\\Image collection without reaction\\00AgNO3_mole_fraction\\Outputs_Grayscale_Labelled_Images_Sizes\\size_folder'  #path to the folder containing the images\n",
    "data_dir = r'C:\\Users\\Public\\PartIIB project 2023_2024\\Image collection without reaction\\00AgNO3_mole_fraction\\size_range\\7-11'\n",
    "# data_dir = r'C:\\Users\\Public\\PartIIB project 2023_2024\\Image collection without reaction\\00AgNO3_mole_fraction\\Outputs_Grayscale_Labelled_Images_Sizes\\size_folder\\second_half'\n",
    "# from google.colab import drive\n",
    "# drive.mount('/content/drive')\n",
    "# data_dir = \"/content/drive/My Drive/size_folder\" #colab path\n",
    "# data_dir = r'C:\\Users\\Chappyyyyyy\\Documents\\size_folder' #path to folder for chappy computer\n"
   ]
  },
  {
   "cell_type": "code",
   "execution_count": 41,
   "metadata": {},
   "outputs": [],
   "source": [
    "from torch.utils.data import Dataset\n",
    "from torchvision import transforms\n",
    "from PIL import Image\n",
    "import os\n",
    "\n",
    "# dataset with cutsize \n",
    "class CustomImageDataset(Dataset):\n",
    "    def __init__(self, root_dir, transform=None):\n",
    "        self.root_dir = root_dir\n",
    "        self.transform = transform\n",
    "        self.images = sorted([f for f in os.listdir(root_dir) if os.path.isfile(os.path.join(root_dir, f))])\n",
    "        self.labels = [self.extract_label(img) for img in self.images]\n",
    "        self.cuttime = [self.extract_cuttime(img) for img in self.images]\n",
    "\n",
    "    def __len__(self):\n",
    "        return len(self.images)\n",
    "\n",
    "    def __getitem__(self, idx):\n",
    "        img_name = os.path.join(self.root_dir, self.images[idx])\n",
    "        image = Image.open(img_name)\n",
    "\n",
    "        if self.transform:\n",
    "            image = self.transform(image)\n",
    "\n",
    "        label = self.labels[idx]\n",
    "        cuttime = self.cuttime[idx]\n",
    "        return image, label, cuttime\n",
    "\n",
    "    def extract_label(self, img_name):\n",
    "        # Assuming that the label is part of the filename before the first underscore\n",
    "        label = float(img_name[-17:-5]) #this is the right code\n",
    "        # label = img_name\n",
    "        return label\n",
    "    \n",
    "    def extract_cuttime(self, img_name):\n",
    "        cuttime = float(img_name.split(\"t-\")[1].split(\"_\")[0])\n",
    "        return cuttime"
   ]
  },
  {
   "cell_type": "code",
   "execution_count": 42,
   "metadata": {},
   "outputs": [
    {
     "name": "stdout",
     "output_type": "stream",
     "text": [
      "5472\n",
      "4104\n",
      "1368\n"
     ]
    }
   ],
   "source": [
    "data_transform = transforms.Compose(\n",
    "[transforms.ToTensor(),\n",
    "transforms.Normalize((0.45), (0.225))]) \n",
    "\n",
    "custom_dataset = CustomImageDataset(root_dir=data_dir, transform=data_transform)\n",
    "\n",
    "# # Accessing the data\n",
    "# for img, label in custom_dataset:\n",
    "#     print(f\"Image shape: {img.shape}, Label: {label}\")\n",
    "\n",
    "print(len(custom_dataset))\n",
    "# train_set, val_set, test_set = random_split(custom_dataset, [int(len(custom_dataset)*0.75), int(len(custom_dataset)*0.15), int(len(custom_dataset)*0.100056)]) #splits data into training, validation and test sets\n",
    "train_set, test_set = random_split(custom_dataset, [int(len(custom_dataset)*0.75), int(len(custom_dataset)*0.25003)])\n",
    "print(len(train_set))\n",
    "# print(len(val_set))\n",
    "print(len(test_set))"
   ]
  },
  {
   "cell_type": "code",
   "execution_count": 43,
   "metadata": {},
   "outputs": [
    {
     "name": "stdout",
     "output_type": "stream",
     "text": [
      "8.34423\n",
      "6.0\n",
      "[tensor([[[[-2., -2., -2.,  ..., -2., -2., -2.],\n",
      "          [-2., -2., -2.,  ..., -2., -2., -2.],\n",
      "          [-2., -2., -2.,  ..., -2., -2., -2.],\n",
      "          ...,\n",
      "          [-2., -2., -2.,  ..., -2., -2., -2.],\n",
      "          [-2., -2., -2.,  ..., -2., -2., -2.],\n",
      "          [-2., -2., -2.,  ..., -2., -2., -2.]]]]), tensor([8.2751], dtype=torch.float64), tensor([159.], dtype=torch.float64)]\n"
     ]
    }
   ],
   "source": [
    "#hyper parameters\n",
    "# num_epochs = 30\n",
    "num_epochs = 60\n",
    "batch_size = 1\n",
    "learning_rate = 0.0005\n",
    "# learning_rate = 0.001\n",
    "\n",
    "train = DataLoader(train_set, batch_size=batch_size, shuffle=True)\n",
    "# val = DataLoader(val_set, batch_size=batch_size, shuffle=False)\n",
    "test = DataLoader(test_set, batch_size=batch_size, shuffle=False)\n",
    "\n",
    "for (images, labels, cuttime) in train:\n",
    "    print(labels.item())\n",
    "    print(cuttime.item())\n",
    "    break\n",
    "\n",
    "for i in train:\n",
    "    print(i)\n",
    "    break"
   ]
  },
  {
   "cell_type": "code",
   "execution_count": 44,
   "metadata": {},
   "outputs": [],
   "source": [
    "class ConvNet(nn.Module): # note need to find out image size\n",
    "    def __init__(self):\n",
    "        super(ConvNet, self).__init__()\n",
    "        self.conv1 = nn.Conv2d(1,8,10, padding='same') #in_channels, out_channels, kernel_size\n",
    "        self.normalise1 = nn.BatchNorm2d(8)\n",
    "        # self.pool = nn.MaxPool2d(5,5) #kernel_size, stride (shift x pixel to the right)\n",
    "        self.pool1 = nn.AvgPool2d(10, stride=10)\n",
    "        # self.pool1 = nn.MaxPool2d(10, stride=10)\n",
    "        self.conv2 = nn.Conv2d(8, 16, 10, padding='same')\n",
    "        self.normalise2 = nn.BatchNorm2d(16)\n",
    "        self.pool2 = nn.AvgPool2d(2, stride=2)\n",
    "        # self.pool2 = nn.MaxPool2d(2, stride=2)\n",
    "        self.conv3 = nn.Conv2d(16, 32, 10, padding='same')\n",
    "        self.normalise3 = nn.BatchNorm2d(32) \n",
    "        self.conv4 = nn.Conv2d(32, 32, 10, padding='same')\n",
    "        # self.fc1 = nn.Linear(16*3*3, 120) # 3x3 is the size of the image after 2 conv layers, 16 is the number of channels, 120 is the number of nodes in the hidden layer\n",
    "        # self.fc2 = nn.Linear(120,84)\n",
    "        # self.fc3 = nn.Linear(60, 1)\n",
    "        self.fc = nn.Linear(32*5*5, 1)\n",
    "        self.fc1 = nn.Linear(32*5*5+5, 400)\n",
    "        self.fc2 = nn.Linear(400,200)\n",
    "        self.fc3 = nn.Linear(200,1)\n",
    "        self.dropout = nn.Dropout(0.1)\n",
    "        self.cutFC1 = nn.Linear(1, 24)\n",
    "        self.cutFC2 = nn.Linear(24, 24)\n",
    "        self.cutFC3 = nn.Linear(24, 1)\n",
    "        self.cutFC = nn.Linear(1, 1)\n",
    "\n",
    "    def forward(self, x, y):\n",
    "        x = self.pool1(F.relu(self.normalise1(self.conv1(x)))) \n",
    "        x = self.pool2(F.relu(self.normalise2(self.conv2(x)))) \n",
    "        x = F.relu(self.normalise3(self.conv3(x)))\n",
    "        x = F.relu(self.normalise3(self.conv4(x)))\n",
    "        x = F.relu(self.normalise3(self.conv4(x)))\n",
    "        x = x.view(-1, 32*5*5)  #flatten\n",
    "        # y = F.relu(self.cutFC1(y))\n",
    "        # y = F.relu(self.cutFC2(y))\n",
    "        # y = self.cutFC3(y)\n",
    "        y = self.cutFC(y)\n",
    "        y = y.view(-1, 1).repeat(1,5)\n",
    "        # print(y)\n",
    "        z = torch.cat((x,y), dim=1)\n",
    "        z = F.relu(self.fc1(z))\n",
    "        z = F.relu(self.fc2(z))\n",
    "        z = self.fc3(z)\n",
    "        # z = self.fc(z)\n",
    "        \n",
    "        return z"
   ]
  },
  {
   "cell_type": "code",
   "execution_count": 45,
   "metadata": {},
   "outputs": [
    {
     "name": "stdout",
     "output_type": "stream",
     "text": [
      "epoch 1/60, average loss = 1.8330\n",
      "epoch 2/60, average loss = 1.3106\n",
      "epoch 3/60, average loss = 1.1445\n",
      "epoch 4/60, average loss = 0.9157\n",
      "epoch 5/60, average loss = 0.7729\n",
      "epoch 6/60, average loss = 0.7326\n",
      "epoch 7/60, average loss = 0.6734\n",
      "epoch 8/60, average loss = 0.6017\n",
      "epoch 9/60, average loss = 0.5811\n",
      "epoch 10/60, average loss = 0.5459\n",
      "epoch 11/60, average loss = 0.5280\n",
      "epoch 12/60, average loss = 0.4982\n",
      "epoch 13/60, average loss = 0.4635\n",
      "epoch 14/60, average loss = 0.4671\n",
      "epoch 15/60, average loss = 0.4481\n",
      "epoch 16/60, average loss = 0.4416\n",
      "epoch 17/60, average loss = 0.4079\n",
      "epoch 18/60, average loss = 0.3992\n",
      "epoch 19/60, average loss = 0.4038\n",
      "epoch 20/60, average loss = 0.3906\n",
      "epoch 21/60, average loss = 0.3555\n",
      "epoch 22/60, average loss = 0.3618\n",
      "epoch 23/60, average loss = 0.3674\n",
      "epoch 24/60, average loss = 0.3640\n",
      "epoch 25/60, average loss = 0.3531\n",
      "epoch 26/60, average loss = 0.3459\n",
      "epoch 27/60, average loss = 0.3160\n",
      "epoch 28/60, average loss = 0.3328\n",
      "epoch 29/60, average loss = 0.3138\n",
      "epoch 30/60, average loss = 0.3257\n",
      "epoch 31/60, average loss = 0.3014\n",
      "epoch 32/60, average loss = 0.3184\n",
      "epoch 33/60, average loss = 0.3092\n",
      "epoch 34/60, average loss = 0.3010\n",
      "epoch 35/60, average loss = 0.2767\n",
      "epoch 36/60, average loss = 0.3051\n",
      "epoch 37/60, average loss = 0.2960\n",
      "epoch 38/60, average loss = 0.2800\n",
      "epoch 39/60, average loss = 0.2922\n",
      "epoch 40/60, average loss = 0.2889\n",
      "epoch 41/60, average loss = 0.2775\n",
      "epoch 42/60, average loss = 0.2745\n",
      "epoch 43/60, average loss = 0.2759\n",
      "epoch 44/60, average loss = 0.2561\n",
      "epoch 45/60, average loss = 0.2505\n",
      "epoch 46/60, average loss = 0.2593\n",
      "epoch 47/60, average loss = 0.2515\n",
      "epoch 48/60, average loss = 0.2429\n",
      "epoch 49/60, average loss = 0.2571\n",
      "epoch 50/60, average loss = 0.2385\n",
      "epoch 51/60, average loss = 0.2546\n",
      "epoch 52/60, average loss = 0.2380\n",
      "epoch 53/60, average loss = 0.2381\n",
      "epoch 54/60, average loss = 0.2384\n",
      "epoch 55/60, average loss = 0.2482\n",
      "epoch 56/60, average loss = 0.2274\n",
      "epoch 57/60, average loss = 0.2479\n",
      "epoch 58/60, average loss = 0.2146\n",
      "epoch 59/60, average loss = 0.2455\n",
      "epoch 60/60, average loss = 0.2335\n",
      "Finished Training\n"
     ]
    }
   ],
   "source": [
    "model = ConvNet().to(device)\n",
    "\n",
    "# loss and optimizer\n",
    "criterion = nn.MSELoss()\n",
    "# optimizer = torch.optim.AdamW(model.parameters(), lr=learning_rate, weight_decay=0.001)\n",
    "optimizer = torch.optim.AdamW(model.parameters(), lr=learning_rate)\n",
    "# optimizer = torch.optim.SGD(model.parameters(), lr=learning_rate, momentum = 0.9)\n",
    "#training loop\n",
    "n_total_steps = len(train)\n",
    "for epoch in range(num_epochs):\n",
    "    total_loss = 0\n",
    "    for i, (images, labels, cuttimes) in enumerate(train):\n",
    "        images = images.to(device)\n",
    "        labels = labels.to(device)\n",
    "        cuttimes = cuttimes.to(device).float()\n",
    "\n",
    "        #forward\n",
    "        outputs = model(images, cuttimes)\n",
    "        # print(labels)\n",
    "        labels = labels.float() #this is the right code\n",
    "        # labels = float(labels[0][-17:-5])\n",
    "        loss = criterion(outputs, labels)\n",
    "\n",
    "        #backward\n",
    "        optimizer.zero_grad()\n",
    "\n",
    "        loss.backward()\n",
    "        optimizer.step()\n",
    "\n",
    "        # if (i+1) % 1000 ==0:\n",
    "        # print(f'epoch {epoch+1}/{num_epochs}, step {i+1}/{n_total_steps}, loss = {loss.item():.4f}')\n",
    "        total_loss += loss.item()\n",
    "    print(f'epoch {epoch+1}/{num_epochs}, average loss = {total_loss/len(train):.4f}')\n",
    "            \n",
    "\n",
    "print(\"Finished Training\")"
   ]
  },
  {
   "cell_type": "code",
   "execution_count": 46,
   "metadata": {},
   "outputs": [
    {
     "name": "stdout",
     "output_type": "stream",
     "text": [
      "RMSE = tensor([0.4936], dtype=torch.float64)\n"
     ]
    },
    {
     "data": {
      "image/png": "[encoded data removed]",
      "text/plain": [
       "<Figure size 640x480 with 1 Axes>"
      ]
     },
     "metadata": {},
     "output_type": "display_data"
    }
   ],
   "source": [
    "with torch.no_grad(): # no need to calculate gradient\n",
    "    squared_difference = 0\n",
    "    predicted_size_data = []\n",
    "    CFD_size_data = []\n",
    "    for images, labels, cuttimes in test:\n",
    "        images = images.to(device)\n",
    "        labels = labels.to(device)\n",
    "        cuttimes = cuttimes.to(device).float()\n",
    "        outputs = model(images, cuttimes)\n",
    "        predictions = float(outputs[0,0])\n",
    "        predicted_size_data.append(predictions)\n",
    "        CFD_size_data.append(float(labels))\n",
    "\n",
    "        squared_difference += (predictions - labels) ** 2\n",
    "    \n",
    "    rmse = torch.sqrt(squared_difference / len(test))\n",
    "    print(f'RMSE = {rmse}')\n",
    "    plt.scatter(predicted_size_data, CFD_size_data)\n",
    "    x = np.linspace(0, 50, 100)\n",
    "    plt.plot(x, x, '-r')\n",
    "    plt.xlabel('Predicted size')\n",
    "    plt.ylabel('CFD size')\n",
    "    plt.title('Predicted size vs CFD size')\n",
    "    plt.show()"
   ]
  },
  {
   "cell_type": "code",
   "execution_count": null,
   "metadata": {},
   "outputs": [],
   "source": [
    "#consideration\n",
    "# 1. change the number of layers\n",
    "# 2. use GELU instead of ReLU"
   ]
  }
 ],
 "metadata": {
  "kernelspec": {
   "display_name": "python38",
   "language": "python",
   "name": "python3"
  },
  "language_info": {
   "codemirror_mode": {
    "name": "ipython",
    "version": 3
   },
   "file_extension": ".py",
   "mimetype": "text/x-python",
   "name": "python",
   "nbconvert_exporter": "python",
   "pygments_lexer": "ipython3",
   "version": "3.11.5"
  }
 },
 "nbformat": 4,
 "nbformat_minor": 2
}
