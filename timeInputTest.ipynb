{
 "cells": [
  {
   "cell_type": "code",
   "execution_count": 7,
   "metadata": {},
   "outputs": [],
   "source": [
    "import torch\n",
    "import torch.nn as nn\n",
    "import torchvision.transforms as transforms\n",
    "import matplotlib.pyplot as plt\n",
    "import torch.nn.functional as F\n",
    "from torchvision import datasets, transforms\n",
    "import numpy as np\n",
    "from torch.utils.data import Dataset, DataLoader, random_split"
   ]
  },
  {
   "cell_type": "code",
   "execution_count": 8,
   "metadata": {},
   "outputs": [],
   "source": [
    "device = torch.device('cuda' if torch.cuda.is_available() else 'cpu') #choose whether to use gpu or cpu\n"
   ]
  },
  {
   "cell_type": "code",
   "execution_count": 9,
   "metadata": {},
   "outputs": [],
   "source": [
    "data_dir = r'C:\\Users\\Public\\PartIIB project 2023_2024\\Image collection without reaction\\00AgNO3_mole_fraction\\Outputs_Grayscale_Labelled_Images_Sizes\\size_folder'  #path to the folder containing the images\n",
    "# data_dir = r'C:\\Users\\Public\\PartIIB project 2023_2024\\PastData\\helical_size'\n",
    "# data_dir = r'C:\\Users\\Public\\PartIIB project 2023_2024\\Image collection without reaction\\00AgNO3_mole_fraction\\Outputs_Grayscale_Labelled_Images_Sizes\\size_folder\\second_half'\n",
    "\n"
   ]
  },
  {
   "cell_type": "code",
   "execution_count": 25,
   "metadata": {},
   "outputs": [],
   "source": [
    "from torch.utils.data import Dataset\n",
    "from torchvision import transforms\n",
    "from PIL import Image\n",
    "import os\n",
    "\n",
    "# dataset with cutsize \n",
    "class CustomImageDataset(Dataset):\n",
    "    def __init__(self, root_dir, transform=None):\n",
    "        self.root_dir = root_dir\n",
    "        self.transform = transform\n",
    "        self.images = sorted([f for f in os.listdir(root_dir) if os.path.isfile(os.path.join(root_dir, f))])\n",
    "        self.labels = [self.extract_label(img) for img in self.images]\n",
    "        self.cuttime = [self.extract_cuttime(img) for img in self.images]\n",
    "\n",
    "    def __len__(self):\n",
    "        return len(self.images)\n",
    "\n",
    "    def __getitem__(self, idx):\n",
    "        img_name = os.path.join(self.root_dir, self.images[idx])\n",
    "        image = Image.open(img_name)\n",
    "\n",
    "        if self.transform:\n",
    "            image = self.transform(image)\n",
    "\n",
    "        label = self.labels[idx]\n",
    "        cuttime = self.cuttime[idx]\n",
    "        return image, label, cuttime\n",
    "\n",
    "    def extract_label(self, img_name):\n",
    "        # Assuming that the label is part of the filename before the first underscore\n",
    "        label = float(img_name[-17:-5]) #this is the right code\n",
    "        # label = img_name\n",
    "        return label\n",
    "    \n",
    "    def extract_cuttime(self, img_name):\n",
    "        cuttime = float(img_name.split(\"t-\")[1].split(\"_\")[0])\n",
    "        return cuttime"
   ]
  },
  {
   "cell_type": "code",
   "execution_count": 26,
   "metadata": {},
   "outputs": [
    {
     "name": "stdout",
     "output_type": "stream",
     "text": [
      "7900\n",
      "5925\n",
      "1975\n"
     ]
    }
   ],
   "source": [
    "data_transform = transforms.Compose(\n",
    "[transforms.ToTensor(),\n",
    "transforms.Normalize((0.45), (0.25))]) \n",
    "\n",
    "custom_dataset = CustomImageDataset(root_dir=data_dir, transform=data_transform)\n",
    "\n",
    "# # Accessing the data\n",
    "# for img, label in custom_dataset:\n",
    "#     print(f\"Image shape: {img.shape}, Label: {label}\")\n",
    "\n",
    "print(len(custom_dataset))\n",
    "# train_set, val_set, test_set = random_split(custom_dataset, [int(len(custom_dataset)*0.75), int(len(custom_dataset)*0.15), int(len(custom_dataset)*0.100056)]) #splits data into training, validation and test sets\n",
    "train_set, test_set = random_split(custom_dataset, [int(len(custom_dataset)*0.75), int(len(custom_dataset)*0.25003)])\n",
    "print(len(train_set))\n",
    "# print(len(val_set))\n",
    "print(len(test_set))"
   ]
  },
  {
   "cell_type": "code",
   "execution_count": 27,
   "metadata": {},
   "outputs": [
    {
     "name": "stdout",
     "output_type": "stream",
     "text": [
      "2.177414\n",
      "<class 'float'>\n"
     ]
    }
   ],
   "source": [
    "#hyper parameters\n",
    "num_epochs = 30\n",
    "# num_epochs = 60\n",
    "batch_size = 1\n",
    "learning_rate = 0.0005\n",
    "# learning_rate = 0.001\n",
    "\n",
    "train = DataLoader(train_set, batch_size=batch_size, shuffle=True)\n",
    "# val = DataLoader(val_set, batch_size=batch_size, shuffle=False)\n",
    "test = DataLoader(test_set, batch_size=batch_size, shuffle=False)\n",
    "\n",
    "for (images, labels, cuttime) in train:\n",
    "    print(labels.item())\n",
    "    print(type(cuttime.item()))\n",
    "    break"
   ]
  },
  {
   "cell_type": "code",
   "execution_count": 55,
   "metadata": {},
   "outputs": [],
   "source": [
    "class ConvNet(nn.Module): # note need to find out image size\n",
    "    def __init__(self):\n",
    "        super(ConvNet, self).__init__()\n",
    "        self.conv1 = nn.Conv2d(1,8,10, padding='same') #in_channels, out_channels, kernel_size\n",
    "        self.normalise1 = nn.BatchNorm2d(8)\n",
    "        # self.pool = nn.MaxPool2d(5,5) #kernel_size, stride (shift x pixel to the right)\n",
    "        # self.pool1 = nn.AvgPool2d(10, stride=10)\n",
    "        self.pool1 = nn.MaxPool2d(10, stride=10)\n",
    "        self.conv2 = nn.Conv2d(8, 16, 10, padding='same')\n",
    "        self.normalise2 = nn.BatchNorm2d(16)\n",
    "        # self.pool2 = nn.AvgPool2d(2, stride=2)\n",
    "        self.pool2 = nn.MaxPool2d(2, stride=2)\n",
    "        self.conv3 = nn.Conv2d(16, 32, 10, padding='same')\n",
    "        self.normalise3 = nn.BatchNorm2d(32) \n",
    "        self.conv4 = nn.Conv2d(32, 32, 10, padding='same')\n",
    "        # self.fc1 = nn.Linear(16*3*3, 120) # 3x3 is the size of the image after 2 conv layers, 16 is the number of channels, 120 is the number of nodes in the hidden layer\n",
    "        # self.fc2 = nn.Linear(120,84)\n",
    "        # self.fc3 = nn.Linear(60, 1)\n",
    "        self.fc = nn.Linear(32*5*5, 1)\n",
    "        self.fc1 = nn.Linear(32*5*5, 400)\n",
    "        self.fc2 = nn.Linear(400,200)\n",
    "        self.fc3 = nn.Linear(200,1)\n",
    "        self.dropout = nn.Dropout(0.1)\n",
    "        self.cutFC1 = nn.Linear(1, 24)\n",
    "        self.cutFC2 = nn.Linear(24, 24)\n",
    "        self.cutFC3 = nn.Linear(24, 1)\n",
    "        self.cutFC = nn.Linear(1, 1)\n",
    "\n",
    "    def forward(self, x, y):\n",
    "        x = self.pool1(F.relu(self.normalise1(self.conv1(x)))) \n",
    "        x = self.pool2(F.relu(self.normalise2(self.conv2(x)))) \n",
    "        x = F.relu(self.normalise3(self.conv3(x)))\n",
    "        x = F.relu(self.normalise3(self.conv4(x)))\n",
    "        x = F.relu(self.normalise3(self.conv4(x)))\n",
    "        x = x.view(-1, 32*5*5)  #flatten\n",
    "        # y = F.relu(self.cutFC1(y))\n",
    "        # y = F.relu(self.cutFC2(y))\n",
    "        # y = self.cutFC3(y)\n",
    "        y = self.cutFC(y)\n",
    "        y = y.view(-1, 1).repeat(1, 0)\n",
    "        z = torch.cat((x,y), dim=1)\n",
    "        z = F.relu(self.fc1(z))\n",
    "        z = F.relu(self.fc2(z))\n",
    "        z = self.fc3(z)\n",
    "        # z = self.fc(z)\n",
    "        \n",
    "        return z"
   ]
  },
  {
   "cell_type": "code",
   "execution_count": 56,
   "metadata": {},
   "outputs": [
    {
     "name": "stderr",
     "output_type": "stream",
     "text": [
      "c:\\Users\\cs2036\\AppData\\Local\\anaconda3\\Lib\\site-packages\\torch\\nn\\modules\\loss.py:535: UserWarning: Using a target size (torch.Size([1])) that is different to the input size (torch.Size([1, 1])). This will likely lead to incorrect results due to broadcasting. Please ensure they have the same size.\n",
      "  return F.mse_loss(input, target, reduction=self.reduction)\n"
     ]
    },
    {
     "name": "stdout",
     "output_type": "stream",
     "text": [
      "epoch 1/30, average loss = 38.0651\n",
      "epoch 2/30, average loss = 28.0370\n",
      "epoch 3/30, average loss = 21.7218\n",
      "epoch 4/30, average loss = 17.6186\n",
      "epoch 5/30, average loss = 14.5483\n",
      "epoch 6/30, average loss = 12.7956\n",
      "epoch 7/30, average loss = 11.9975\n",
      "epoch 8/30, average loss = 10.8156\n",
      "epoch 9/30, average loss = 9.9490\n",
      "epoch 10/30, average loss = 9.8547\n",
      "epoch 11/30, average loss = 9.1194\n",
      "epoch 12/30, average loss = 8.4197\n",
      "epoch 13/30, average loss = 8.3933\n",
      "epoch 14/30, average loss = 8.0443\n",
      "epoch 15/30, average loss = 8.2088\n",
      "epoch 16/30, average loss = 7.5401\n",
      "epoch 17/30, average loss = 7.3778\n"
     ]
    }
   ],
   "source": [
    "model = ConvNet().to(device)\n",
    "\n",
    "# loss and optimizer\n",
    "criterion = nn.MSELoss()\n",
    "# optimizer = torch.optim.AdamW(model.parameters(), lr=learning_rate, weight_decay=0.001)\n",
    "optimizer = torch.optim.AdamW(model.parameters(), lr=learning_rate)\n",
    "# optimizer = torch.optim.SGD(model.parameters(), lr=learning_rate, momentum = 0.9)\n",
    "#training loop\n",
    "n_total_steps = len(train)\n",
    "for epoch in range(num_epochs):\n",
    "    total_loss = 0\n",
    "    for i, (images, labels, cuttimes) in enumerate(train):\n",
    "        images = images.to(device)\n",
    "        labels = labels.to(device)\n",
    "        cuttimes = cuttimes.to(device).float()\n",
    "\n",
    "        #forward\n",
    "        outputs = model(images, cuttimes)\n",
    "        # print(labels)\n",
    "        labels = labels.float() #this is the right code\n",
    "        # labels = float(labels[0][-17:-5])\n",
    "        loss = criterion(outputs, labels)\n",
    "\n",
    "        #backward\n",
    "        optimizer.zero_grad()\n",
    "\n",
    "        loss.backward()\n",
    "        optimizer.step()\n",
    "\n",
    "        # if (i+1) % 1000 ==0:\n",
    "        # print(f'epoch {epoch+1}/{num_epochs}, step {i+1}/{n_total_steps}, loss = {loss.item():.4f}')\n",
    "        total_loss += loss.item()\n",
    "    print(f'epoch {epoch+1}/{num_epochs}, average loss = {total_loss/len(train):.4f}')\n",
    "            \n",
    "\n",
    "print(\"Finished Training\")"
   ]
  },
  {
   "cell_type": "code",
   "execution_count": null,
   "metadata": {},
   "outputs": [],
   "source": [
    "with torch.no_grad(): # no need to calculate gradient\n",
    "    squared_difference = 0\n",
    "    for images, labels, cuttimes in test:\n",
    "        images = images.to(device)\n",
    "        labels = labels.to(device)\n",
    "        cuttimes = cuttimes.to(device).float()\n",
    "        outputs = model(images, cuttimes)\n",
    "        \n",
    "        #value, index\n",
    "        _, predictions = torch.max(outputs, 1)\n",
    "        squared_difference += (predictions - labels) ** 2\n",
    "    \n",
    "    rmse = torch.sqrt(squared_difference / len(test))\n",
    "    print(f'RMSE = {rmse}')"
   ]
  },
  {
   "cell_type": "code",
   "execution_count": null,
   "metadata": {},
   "outputs": [],
   "source": []
  }
 ],
 "metadata": {
  "kernelspec": {
   "display_name": "python38",
   "language": "python",
   "name": "python3"
  },
  "language_info": {
   "codemirror_mode": {
    "name": "ipython",
    "version": 3
   },
   "file_extension": ".py",
   "mimetype": "text/x-python",
   "name": "python",
   "nbconvert_exporter": "python",
   "pygments_lexer": "ipython3",
   "version": "3.11.5"
  }
 },
 "nbformat": 4,
 "nbformat_minor": 2
}
