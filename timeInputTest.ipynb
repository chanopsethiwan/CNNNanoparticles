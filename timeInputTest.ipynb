{
 "cells": [
  {
   "cell_type": "code",
   "execution_count": 1,
   "metadata": {},
   "outputs": [],
   "source": [
    "import torch\n",
    "import torch.nn as nn\n",
    "import torchvision.transforms as transforms\n",
    "import matplotlib.pyplot as plt\n",
    "import torch.nn.functional as F\n",
    "from torchvision import datasets, transforms\n",
    "import numpy as np\n",
    "from torch.utils.data import Dataset, DataLoader, random_split"
   ]
  },
  {
   "cell_type": "code",
   "execution_count": 2,
   "metadata": {},
   "outputs": [],
   "source": [
    "device = torch.device('cuda' if torch.cuda.is_available() else 'cpu') #choose whether to use gpu or cpu\n"
   ]
  },
  {
   "cell_type": "code",
   "execution_count": 6,
   "metadata": {},
   "outputs": [],
   "source": [
    "# data_dir = r'C:\\Users\\Public\\PartIIB project 2023_2024\\Image collection without reaction\\00AgNO3_mole_fraction\\Outputs_Grayscale_Labelled_Images_Sizes\\size_folder'  #bruno's computer\n",
    "# data_dir = r'C:\\Users\\Public\\PartIIB project 2023_2024\\PastData\\helical_size'\n",
    "# data_dir = r'C:\\Users\\Public\\PartIIB project 2023_2024\\Image collection without reaction\\00AgNO3_mole_fraction\\Outputs_Grayscale_Labelled_Images_Sizes\\size_folder\\second_half'\n",
    "\n",
    "data_dir = r'C:\\Users\\Chappyyyyyy\\Documents\\size_folder' #chappy's computer"
   ]
  },
  {
   "cell_type": "code",
   "execution_count": 7,
   "metadata": {},
   "outputs": [],
   "source": [
    "from torch.utils.data import Dataset\n",
    "from torchvision import transforms\n",
    "from PIL import Image\n",
    "import os\n",
    "\n",
    "# dataset with cutsize \n",
    "class CustomImageDataset(Dataset):\n",
    "    def __init__(self, root_dir, transform=None):\n",
    "        self.root_dir = root_dir\n",
    "        self.transform = transform\n",
    "        self.images = sorted([f for f in os.listdir(root_dir) if os.path.isfile(os.path.join(root_dir, f))])\n",
    "        self.labels = [self.extract_label(img) for img in self.images]\n",
    "        self.cuttime = [self.extract_cuttime(img) for img in self.images]\n",
    "\n",
    "    def __len__(self):\n",
    "        return len(self.images)\n",
    "\n",
    "    def __getitem__(self, idx):\n",
    "        img_name = os.path.join(self.root_dir, self.images[idx])\n",
    "        image = Image.open(img_name)\n",
    "\n",
    "        if self.transform:\n",
    "            image = self.transform(image)\n",
    "\n",
    "        label = self.labels[idx]\n",
    "        cuttime = self.cuttime[idx]\n",
    "        return image, label, cuttime\n",
    "\n",
    "    def extract_label(self, img_name):\n",
    "        # Assuming that the label is part of the filename before the first underscore\n",
    "        label = float(img_name[-17:-5]) #this is the right code\n",
    "        # label = img_name\n",
    "        return label\n",
    "    \n",
    "    def extract_cuttime(self, img_name):\n",
    "        cuttime = float(img_name.split(\"t-\")[1].split(\"_\")[0])\n",
    "        return cuttime"
   ]
  },
  {
   "cell_type": "code",
   "execution_count": 8,
   "metadata": {},
   "outputs": [
    {
     "name": "stdout",
     "output_type": "stream",
     "text": [
      "15800\n",
      "11850\n",
      "3950\n"
     ]
    }
   ],
   "source": [
    "data_transform = transforms.Compose(\n",
    "[transforms.ToTensor(),\n",
    "transforms.Normalize((0.45), (0.25))]) \n",
    "\n",
    "custom_dataset = CustomImageDataset(root_dir=data_dir, transform=data_transform)\n",
    "\n",
    "# # Accessing the data\n",
    "# for img, label in custom_dataset:\n",
    "#     print(f\"Image shape: {img.shape}, Label: {label}\")\n",
    "\n",
    "print(len(custom_dataset))\n",
    "# train_set, val_set, test_set = random_split(custom_dataset, [int(len(custom_dataset)*0.75), int(len(custom_dataset)*0.15), int(len(custom_dataset)*0.100056)]) #splits data into training, validation and test sets\n",
    "train_set, test_set = random_split(custom_dataset, [int(len(custom_dataset)*0.75), int(len(custom_dataset)*0.25003)])\n",
    "print(len(train_set))\n",
    "# print(len(val_set))\n",
    "print(len(test_set))"
   ]
  },
  {
   "cell_type": "code",
<<<<<<< Updated upstream
   "execution_count": 79,
=======
   "execution_count": 9,
>>>>>>> Stashed changes
   "metadata": {},
   "outputs": [
    {
     "name": "stdout",
     "output_type": "stream",
     "text": [
<<<<<<< Updated upstream
      "7.920875\n",
      "169.0\n",
=======
      "9.676785\n",
      "141.0\n",
>>>>>>> Stashed changes
      "[tensor([[[[-1.8000, -1.8000, -1.8000,  ..., -1.8000, -1.8000, -1.8000],\n",
      "          [-1.8000, -1.8000, -1.8000,  ..., -1.8000, -1.8000, -1.8000],\n",
      "          [-1.8000, -1.8000, -1.8000,  ..., -1.8000, -1.8000, -1.8000],\n",
      "          ...,\n",
      "          [-1.8000, -1.8000, -1.8000,  ..., -1.8000, -1.8000, -1.8000],\n",
      "          [-1.8000, -1.8000, -1.8000,  ..., -1.8000, -1.8000, -1.8000],\n",
<<<<<<< Updated upstream
      "          [-1.8000, -1.8000, -1.8000,  ..., -1.8000, -1.8000, -1.8000]]]]), tensor([15.0229], dtype=torch.float64), tensor([175.], dtype=torch.float64)]\n"
=======
      "          [-1.8000, -1.8000, -1.8000,  ..., -1.8000, -1.8000, -1.8000]]]]), tensor([7.4157], dtype=torch.float64), tensor([195.], dtype=torch.float64)]\n"
>>>>>>> Stashed changes
     ]
    }
   ],
   "source": [
    "#hyper parameters\n",
    "num_epochs = 30\n",
    "# num_epochs = 60\n",
    "batch_size = 1\n",
    "learning_rate = 0.0005\n",
    "# learning_rate = 0.001\n",
    "\n",
    "train = DataLoader(train_set, batch_size=batch_size, shuffle=True)\n",
    "# val = DataLoader(val_set, batch_size=batch_size, shuffle=False)\n",
    "test = DataLoader(test_set, batch_size=batch_size, shuffle=False)\n",
    "\n",
    "for (images, labels, cuttime) in train:\n",
    "    print(labels.item())\n",
    "    print(cuttime.item())\n",
    "    break\n",
    "\n",
    "for i in train:\n",
    "    print(i)\n",
    "    break"
   ]
  },
  {
   "cell_type": "code",
   "execution_count": 10,
   "metadata": {},
   "outputs": [],
   "source": [
    "class ConvNet(nn.Module): # note need to find out image size\n",
    "    def __init__(self):\n",
    "        super(ConvNet, self).__init__()\n",
    "        self.conv1 = nn.Conv2d(1,8,10, padding='same') #in_channels, out_channels, kernel_size\n",
    "        self.normalise1 = nn.BatchNorm2d(8)\n",
    "        # self.pool = nn.MaxPool2d(5,5) #kernel_size, stride (shift x pixel to the right)\n",
    "        # self.pool1 = nn.AvgPool2d(10, stride=10)\n",
    "        self.pool1 = nn.MaxPool2d(10, stride=10)\n",
    "        self.conv2 = nn.Conv2d(8, 16, 10, padding='same')\n",
    "        self.normalise2 = nn.BatchNorm2d(16)\n",
    "        # self.pool2 = nn.AvgPool2d(2, stride=2)\n",
    "        self.pool2 = nn.MaxPool2d(2, stride=2)\n",
    "        self.conv3 = nn.Conv2d(16, 32, 10, padding='same')\n",
    "        self.normalise3 = nn.BatchNorm2d(32) \n",
    "        self.conv4 = nn.Conv2d(32, 32, 10, padding='same')\n",
    "        # self.fc1 = nn.Linear(16*3*3, 120) # 3x3 is the size of the image after 2 conv layers, 16 is the number of channels, 120 is the number of nodes in the hidden layer\n",
    "        # self.fc2 = nn.Linear(120,84)\n",
    "        # self.fc3 = nn.Linear(60, 1)\n",
    "        self.fc = nn.Linear(32*5*5, 1)\n",
    "        self.fc1 = nn.Linear(32*5*5+1, 400)\n",
    "        self.fc2 = nn.Linear(400,200)\n",
    "        self.fc3 = nn.Linear(200,1)\n",
    "        self.dropout = nn.Dropout(0.1)\n",
    "        self.cutFC1 = nn.Linear(1, 24)\n",
    "        self.cutFC2 = nn.Linear(24, 24)\n",
    "        self.cutFC3 = nn.Linear(24, 1)\n",
    "        self.cutFC = nn.Linear(1, 1)\n",
    "\n",
    "    def forward(self, x, y):\n",
    "        x = self.pool1(F.relu(self.normalise1(self.conv1(x)))) \n",
    "        x = self.pool2(F.relu(self.normalise2(self.conv2(x)))) \n",
    "        x = F.relu(self.normalise3(self.conv3(x)))\n",
    "        x = F.relu(self.normalise3(self.conv4(x)))\n",
    "        x = F.relu(self.normalise3(self.conv4(x)))\n",
    "        x = x.view(-1, 32*5*5)  #flatten\n",
    "        # y = F.relu(self.cutFC1(y))\n",
    "        # y = F.relu(self.cutFC2(y))\n",
    "        # y = self.cutFC3(y)\n",
    "        y = self.cutFC(y)\n",
    "        y = y.view(-1, 1).repeat(1,1)\n",
    "        # print(y)\n",
    "        z = torch.cat((x,y), dim=1)\n",
    "        z = F.relu(self.fc1(z))\n",
    "        z = F.relu(self.fc2(z))\n",
    "        z = self.fc3(z)\n",
    "        # z = self.fc(z)\n",
    "        \n",
    "        return z"
   ]
  },
  {
   "cell_type": "code",
   "execution_count": 11,
   "metadata": {},
   "outputs": [
    {
     "name": "stderr",
     "output_type": "stream",
     "text": [
<<<<<<< Updated upstream
      "epoch 1/30, average loss = 45.5774\n",
      "epoch 2/30, average loss = 30.9788\n",
      "epoch 3/30, average loss = 23.0056\n",
      "epoch 4/30, average loss = 18.2661\n",
      "epoch 5/30, average loss = 15.7007\n",
      "epoch 6/30, average loss = 14.5222\n",
      "epoch 7/30, average loss = 12.8704\n",
      "epoch 8/30, average loss = 11.9641\n",
      "epoch 9/30, average loss = 11.1245\n",
      "epoch 10/30, average loss = 10.0169\n",
      "epoch 11/30, average loss = 9.8748\n",
      "epoch 12/30, average loss = 9.6846\n",
      "epoch 13/30, average loss = 9.1774\n",
      "epoch 14/30, average loss = 8.9773\n",
      "epoch 15/30, average loss = 8.8537\n",
      "epoch 16/30, average loss = 8.5132\n",
      "epoch 17/30, average loss = 8.4432\n",
      "epoch 18/30, average loss = 8.1666\n",
      "epoch 19/30, average loss = 8.3011\n",
      "epoch 20/30, average loss = 7.5917\n",
      "epoch 21/30, average loss = 7.8029\n",
      "epoch 22/30, average loss = 7.6577\n",
      "epoch 23/30, average loss = 7.5831\n",
      "epoch 24/30, average loss = 7.7968\n",
      "epoch 25/30, average loss = 7.8176\n",
      "epoch 26/30, average loss = 7.1502\n",
      "epoch 27/30, average loss = 7.4841\n",
      "epoch 28/30, average loss = 7.3762\n",
      "epoch 29/30, average loss = 7.2597\n",
      "epoch 30/30, average loss = 7.1740\n",
      "Finished Training\n"
=======
      "c:\\Users\\Chappyyyyyy\\anaconda3\\Lib\\site-packages\\torch\\nn\\modules\\conv.py:456: UserWarning: Using padding='same' with even kernel lengths and odd dilation may require a zero-padded copy of the input be created (Triggered internally at C:\\cb\\pytorch_1000000000000\\work\\aten\\src\\ATen\\native\\Convolution.cpp:1009.)\n",
      "  return F.conv2d(input, weight, bias, self.stride,\n",
      "c:\\Users\\Chappyyyyyy\\anaconda3\\Lib\\site-packages\\torch\\nn\\modules\\loss.py:535: UserWarning: Using a target size (torch.Size([1])) that is different to the input size (torch.Size([1, 1])). This will likely lead to incorrect results due to broadcasting. Please ensure they have the same size.\n",
      "  return F.mse_loss(input, target, reduction=self.reduction)\n"
>>>>>>> Stashed changes
     ]
    }
   ],
   "source": [
    "model = ConvNet().to(device)\n",
    "\n",
    "# loss and optimizer\n",
    "criterion = nn.MSELoss()\n",
    "# optimizer = torch.optim.AdamW(model.parameters(), lr=learning_rate, weight_decay=0.001)\n",
    "optimizer = torch.optim.AdamW(model.parameters(), lr=learning_rate)\n",
    "# optimizer = torch.optim.SGD(model.parameters(), lr=learning_rate, momentum = 0.9)\n",
    "#training loop\n",
    "n_total_steps = len(train)\n",
    "for epoch in range(num_epochs):\n",
    "    total_loss = 0\n",
    "    for i, (images, labels, cuttimes) in enumerate(train):\n",
    "        images = images.to(device)\n",
    "        labels = labels.to(device)\n",
    "        cuttimes = cuttimes.to(device).float()\n",
    "\n",
    "        #forward\n",
    "        outputs = model(images, cuttimes)\n",
    "        # print(labels)\n",
    "        labels = labels.float() #this is the right code\n",
    "        # labels = float(labels[0][-17:-5])\n",
    "        loss = criterion(outputs, labels)\n",
    "\n",
    "        #backward\n",
    "        optimizer.zero_grad()\n",
    "\n",
    "        loss.backward()\n",
    "        optimizer.step()\n",
    "\n",
    "        # if (i+1) % 1000 ==0:\n",
    "        # print(f'epoch {epoch+1}/{num_epochs}, step {i+1}/{n_total_steps}, loss = {loss.item():.4f}')\n",
    "        total_loss += loss.item()\n",
    "    print(f'epoch {epoch+1}/{num_epochs}, average loss = {total_loss/len(train):.4f}')\n",
    "            \n",
    "\n",
    "print(\"Finished Training\")"
   ]
  },
  {
   "cell_type": "code",
   "execution_count": 80,
   "metadata": {},
   "outputs": [
    {
     "name": "stdout",
     "output_type": "stream",
     "text": [
      "RMSE = tensor([14.0326], dtype=torch.float64)\n"
     ]
    }
   ],
   "source": [
    "with torch.no_grad(): # no need to calculate gradient\n",
    "    squared_difference = 0\n",
    "    for images, labels, cuttimes in test:\n",
    "        images = images.to(device)\n",
    "        labels = labels.to(device)\n",
    "        cuttimes = cuttimes.to(device).float()\n",
    "        outputs = model(images, cuttimes)\n",
    "        \n",
    "        #value, index\n",
    "        _, predictions = torch.max(outputs, 1)\n",
    "        squared_difference += (predictions - labels) ** 2\n",
    "    \n",
    "    rmse = torch.sqrt(squared_difference / len(test))\n",
    "    print(f'RMSE = {rmse}')"
   ]
  },
  {
   "cell_type": "code",
   "execution_count": null,
   "metadata": {},
   "outputs": [],
   "source": []
  }
 ],
 "metadata": {
  "kernelspec": {
   "display_name": "python38",
   "language": "python",
   "name": "python3"
  },
  "language_info": {
   "codemirror_mode": {
    "name": "ipython",
    "version": 3
   },
   "file_extension": ".py",
   "mimetype": "text/x-python",
   "name": "python",
   "nbconvert_exporter": "python",
   "pygments_lexer": "ipython3",
   "version": "3.11.5"
  }
 },
 "nbformat": 4,
 "nbformat_minor": 2
}
