{
 "cells": [
  {
   "cell_type": "code",
   "execution_count": 5,
   "metadata": {},
   "outputs": [
    {
     "name": "stdout",
     "output_type": "stream",
     "text": [
      "1.177115e+01\n",
      "11.77115\n"
     ]
    }
   ],
   "source": [
    "testString = 'Fig_1__t-16_molef-agno3_Transformed_size_1.177115e+01_'\n",
    "stringIndex = testString[-13:-1]\n",
    "print(stringIndex)\n",
    "print(float(stringIndex))"
   ]
  },
  {
   "cell_type": "code",
   "execution_count": 1,
   "metadata": {},
   "outputs": [
    {
     "name": "stdout",
     "output_type": "stream",
     "text": [
      "50.0\n"
     ]
    }
   ],
   "source": [
    "print(5e+01)"
   ]
  },
  {
   "cell_type": "code",
   "execution_count": 7,
   "metadata": {},
   "outputs": [
    {
     "name": "stdout",
     "output_type": "stream",
     "text": [
      "2.1.2\n"
     ]
    }
   ],
   "source": [
    "import torch\n",
    "print(torch.__version__)"
   ]
  },
  {
   "cell_type": "code",
   "execution_count": 4,
   "metadata": {},
   "outputs": [
    {
     "name": "stdout",
     "output_type": "stream",
     "text": [
      "['Fig_106__t-1_molef-agno3_Transformed_size_9.484384e+00_.png', 'Fig_106__t-2_molef-agno3_Transformed_size_1.227693e+01_.png', 'Fig_106__t-3_molef-agno3_Transformed_size_1.354338e+01_.png', 'Fig_106__t-4_molef-agno3_Transformed_size_1.453013e+01_.png', 'Fig_106__t-5_molef-agno3_Transformed_size_1.538139e+01_.png', 'Fig_106__t-6_molef-agno3_Transformed_size_1.626916e+01_.png', 'Fig_106__t-7_molef-agno3_Transformed_size_1.710533e+01_.png', 'Fig_106__t-8_molef-agno3_Transformed_size_1.779314e+01_.png', 'Fig_106__t-9_molef-agno3_Transformed_size_1.845782e+01_.png', 'Fig_106__t-10_molef-agno3_Transformed_size_1.951493e+01_.png', 'Fig_106__t-11_molef-agno3_Transformed_size_2.055001e+01_.png', 'Fig_106__t-12_molef-agno3_Transformed_size_2.085456e+01_.png', 'Fig_106__t-13_molef-agno3_Transformed_size_2.119666e+01_.png', 'Fig_106__t-14_molef-agno3_Transformed_size_2.233463e+01_.png', 'Fig_106__t-15_molef-agno3_Transformed_size_2.307767e+01_.png', 'Fig_106__t-16_molef-agno3_Transformed_size_2.332308e+01_.png', 'Fig_106__t-17_molef-agno3_Transformed_size_2.408653e+01_.png', 'Fig_106__t-18_molef-agno3_Transformed_size_2.504339e+01_.png', 'Fig_106__t-19_molef-agno3_Transformed_size_2.560356e+01_.png', 'Fig_106__t-20_molef-agno3_Transformed_size_2.572177e+01_.png', 'Fig_106__t-21_molef-agno3_Transformed_size_2.663415e+01_.png', 'Fig_106__t-22_molef-agno3_Transformed_size_2.753326e+01_.png', 'Fig_106__t-23_molef-agno3_Transformed_size_2.780103e+01_.png', 'Fig_106__t-24_molef-agno3_Transformed_size_2.797591e+01_.png', 'Fig_106__t-25_molef-agno3_Transformed_size_2.896163e+01_.png', 'Fig_106__t-26_molef-agno3_Transformed_size_2.950162e+01_.png', 'Fig_106__t-27_molef-agno3_Transformed_size_2.960503e+01_.png', 'Fig_106__t-28_molef-agno3_Transformed_size_2.983854e+01_.png', 'Fig_106__t-29_molef-agno3_Transformed_size_3.087132e+01_.png', 'Fig_106__t-30_molef-agno3_Transformed_size_3.115672e+01_.png', 'Fig_106__t-31_molef-agno3_Transformed_size_3.118953e+01_.png', 'Fig_106__t-32_molef-agno3_Transformed_size_3.161310e+01_.png', 'Fig_106__t-33_molef-agno3_Transformed_size_3.209987e+01_.png', 'Fig_106__t-34_molef-agno3_Transformed_size_3.225779e+01_.png', 'Fig_106__t-35_molef-agno3_Transformed_size_3.231793e+01_.png', 'Fig_106__t-36_molef-agno3_Transformed_size_3.289276e+01_.png', 'Fig_106__t-37_molef-agno3_Transformed_size_3.315593e+01_.png', 'Fig_106__t-38_molef-agno3_Transformed_size_3.312552e+01_.png', 'Fig_106__t-39_molef-agno3_Transformed_size_3.319816e+01_.png', 'Fig_106__t-40_molef-agno3_Transformed_size_3.368268e+01_.png', 'Fig_106__t-41_molef-agno3_Transformed_size_3.384007e+01_.png', 'Fig_106__t-42_molef-agno3_Transformed_size_3.378807e+01_.png', 'Fig_106__t-43_molef-agno3_Transformed_size_3.397481e+01_.png', 'Fig_106__t-44_molef-agno3_Transformed_size_3.405728e+01_.png', 'Fig_106__t-45_molef-agno3_Transformed_size_3.394402e+01_.png', 'Fig_106__t-46_molef-agno3_Transformed_size_3.382725e+01_.png', 'Fig_106__t-47_molef-agno3_Transformed_size_3.399315e+01_.png', 'Fig_106__t-48_molef-agno3_Transformed_size_3.392613e+01_.png', 'Fig_106__t-49_molef-agno3_Transformed_size_3.383156e+01_.png', 'Fig_106__t-50_molef-agno3_Transformed_size_3.375768e+01_.png', 'Fig_107__t-1_molef-agno3_Transformed_size_1.107741e+01_.png', 'Fig_107__t-2_molef-agno3_Transformed_size_1.354506e+01_.png', 'Fig_107__t-3_molef-agno3_Transformed_size_1.421975e+01_.png', 'Fig_107__t-4_molef-agno3_Transformed_size_1.487873e+01_.png', 'Fig_107__t-5_molef-agno3_Transformed_size_1.536752e+01_.png', 'Fig_107__t-6_molef-agno3_Transformed_size_1.586065e+01_.png', 'Fig_107__t-7_molef-agno3_Transformed_size_1.631025e+01_.png', 'Fig_107__t-8_molef-agno3_Transformed_size_1.673682e+01_.png', 'Fig_107__t-9_molef-agno3_Transformed_size_1.722371e+01_.png', 'Fig_107__t-10_molef-agno3_Transformed_size_1.756514e+01_.png', 'Fig_107__t-11_molef-agno3_Transformed_size_1.812521e+01_.png', 'Fig_107__t-12_molef-agno3_Transformed_size_1.825005e+01_.png', 'Fig_107__t-13_molef-agno3_Transformed_size_1.891896e+01_.png', 'Fig_107__t-14_molef-agno3_Transformed_size_1.977783e+01_.png', 'Fig_107__t-15_molef-agno3_Transformed_size_2.027207e+01_.png', 'Fig_107__t-16_molef-agno3_Transformed_size_2.048762e+01_.png', 'Fig_107__t-17_molef-agno3_Transformed_size_2.063259e+01_.png', 'Fig_107__t-18_molef-agno3_Transformed_size_2.104888e+01_.png', 'Fig_107__t-19_molef-agno3_Transformed_size_2.178399e+01_.png', 'Fig_107__t-20_molef-agno3_Transformed_size_2.243223e+01_.png', 'Fig_107__t-21_molef-agno3_Transformed_size_2.266890e+01_.png', 'Fig_107__t-22_molef-agno3_Transformed_size_2.279678e+01_.png', 'Fig_107__t-23_molef-agno3_Transformed_size_2.308502e+01_.png', 'Fig_107__t-24_molef-agno3_Transformed_size_2.350318e+01_.png', 'Fig_107__t-25_molef-agno3_Transformed_size_2.444388e+01_.png', 'Fig_107__t-26_molef-agno3_Transformed_size_2.474672e+01_.png', 'Fig_107__t-27_molef-agno3_Transformed_size_2.478885e+01_.png', 'Fig_107__t-28_molef-agno3_Transformed_size_2.496747e+01_.png', 'Fig_107__t-29_molef-agno3_Transformed_size_2.562456e+01_.png', 'Fig_107__t-30_molef-agno3_Transformed_size_2.635295e+01_.png', 'Fig_107__t-31_molef-agno3_Transformed_size_2.663361e+01_.png', 'Fig_107__t-32_molef-agno3_Transformed_size_2.663959e+01_.png', 'Fig_107__t-33_molef-agno3_Transformed_size_2.680617e+01_.png', 'Fig_107__t-34_molef-agno3_Transformed_size_2.693602e+01_.png', 'Fig_107__t-35_molef-agno3_Transformed_size_2.792997e+01_.png', 'Fig_107__t-36_molef-agno3_Transformed_size_2.827115e+01_.png', 'Fig_107__t-37_molef-agno3_Transformed_size_2.843660e+01_.png', 'Fig_107__t-38_molef-agno3_Transformed_size_2.848304e+01_.png', 'Fig_107__t-39_molef-agno3_Transformed_size_2.883207e+01_.png', 'Fig_107__t-40_molef-agno3_Transformed_size_2.935084e+01_.png', 'Fig_107__t-41_molef-agno3_Transformed_size_2.961048e+01_.png', 'Fig_107__t-42_molef-agno3_Transformed_size_2.966897e+01_.png', 'Fig_107__t-43_molef-agno3_Transformed_size_2.972040e+01_.png', 'Fig_107__t-44_molef-agno3_Transformed_size_3.042825e+01_.png', 'Fig_107__t-45_molef-agno3_Transformed_size_3.052306e+01_.png', 'Fig_107__t-46_molef-agno3_Transformed_size_3.072834e+01_.png', 'Fig_107__t-47_molef-agno3_Transformed_size_3.072937e+01_.png', 'Fig_107__t-48_molef-agno3_Transformed_size_3.049252e+01_.png', 'Fig_107__t-49_molef-agno3_Transformed_size_3.111790e+01_.png', 'Fig_107__t-50_molef-agno3_Transformed_size_3.165225e+01_.png', 'Fig_108__t-10_molef-agno3_Transformed_size_1.333329e+01_.png', 'Fig_108__t-11_molef-agno3_Transformed_size_1.335678e+01_.png', 'Fig_108__t-12_molef-agno3_Transformed_size_1.340188e+01_.png', 'Fig_108__t-13_molef-agno3_Transformed_size_1.342441e+01_.png', 'Fig_108__t-14_molef-agno3_Transformed_size_1.342341e+01_.png', 'Fig_108__t-15_molef-agno3_Transformed_size_1.354494e+01_.png', 'Fig_108__t-16_molef-agno3_Transformed_size_1.351307e+01_.png']\n"
     ]
    }
   ],
   "source": [
    "lst = ['Fig_106__t-10_molef-agno3_Transformed_size_1.951493e+01_.png', \n",
    "'Fig_106__t-11_molef-agno3_Transformed_size_2.055001e+01_.png', \n",
    "'Fig_106__t-12_molef-agno3_Transformed_size_2.085456e+01_.png', 'Fig_106__t-13_molef-agno3_Transformed_size_2.119666e+01_.png', 'Fig_106__t-14_molef-agno3_Transformed_size_2.233463e+01_.png', 'Fig_106__t-15_molef-agno3_Transformed_size_2.307767e+01_.png', 'Fig_106__t-16_molef-agno3_Transformed_size_2.332308e+01_.png', 'Fig_106__t-17_molef-agno3_Transformed_size_2.408653e+01_.png', 'Fig_106__t-18_molef-agno3_Transformed_size_2.504339e+01_.png', 'Fig_106__t-19_molef-agno3_Transformed_size_2.560356e+01_.png', 'Fig_106__t-1_molef-agno3_Transformed_size_9.484384e+00_.png', 'Fig_106__t-20_molef-agno3_Transformed_size_2.572177e+01_.png', 'Fig_106__t-21_molef-agno3_Transformed_size_2.663415e+01_.png', 'Fig_106__t-22_molef-agno3_Transformed_size_2.753326e+01_.png', 'Fig_106__t-23_molef-agno3_Transformed_size_2.780103e+01_.png', 'Fig_106__t-24_molef-agno3_Transformed_size_2.797591e+01_.png', 'Fig_106__t-25_molef-agno3_Transformed_size_2.896163e+01_.png', 'Fig_106__t-26_molef-agno3_Transformed_size_2.950162e+01_.png', 'Fig_106__t-27_molef-agno3_Transformed_size_2.960503e+01_.png', 'Fig_106__t-28_molef-agno3_Transformed_size_2.983854e+01_.png', 'Fig_106__t-29_molef-agno3_Transformed_size_3.087132e+01_.png', 'Fig_106__t-2_molef-agno3_Transformed_size_1.227693e+01_.png', 'Fig_106__t-30_molef-agno3_Transformed_size_3.115672e+01_.png', 'Fig_106__t-31_molef-agno3_Transformed_size_3.118953e+01_.png', 'Fig_106__t-32_molef-agno3_Transformed_size_3.161310e+01_.png', 'Fig_106__t-33_molef-agno3_Transformed_size_3.209987e+01_.png', 'Fig_106__t-34_molef-agno3_Transformed_size_3.225779e+01_.png', 'Fig_106__t-35_molef-agno3_Transformed_size_3.231793e+01_.png', 'Fig_106__t-36_molef-agno3_Transformed_size_3.289276e+01_.png', 'Fig_106__t-37_molef-agno3_Transformed_size_3.315593e+01_.png', 'Fig_106__t-38_molef-agno3_Transformed_size_3.312552e+01_.png', 'Fig_106__t-39_molef-agno3_Transformed_size_3.319816e+01_.png', 'Fig_106__t-3_molef-agno3_Transformed_size_1.354338e+01_.png', 'Fig_106__t-40_molef-agno3_Transformed_size_3.368268e+01_.png', 'Fig_106__t-41_molef-agno3_Transformed_size_3.384007e+01_.png', 'Fig_106__t-42_molef-agno3_Transformed_size_3.378807e+01_.png', 'Fig_106__t-43_molef-agno3_Transformed_size_3.397481e+01_.png', 'Fig_106__t-44_molef-agno3_Transformed_size_3.405728e+01_.png', 'Fig_106__t-45_molef-agno3_Transformed_size_3.394402e+01_.png', 'Fig_106__t-46_molef-agno3_Transformed_size_3.382725e+01_.png', 'Fig_106__t-47_molef-agno3_Transformed_size_3.399315e+01_.png', 'Fig_106__t-48_molef-agno3_Transformed_size_3.392613e+01_.png', 'Fig_106__t-49_molef-agno3_Transformed_size_3.383156e+01_.png', 'Fig_106__t-4_molef-agno3_Transformed_size_1.453013e+01_.png', 'Fig_106__t-50_molef-agno3_Transformed_size_3.375768e+01_.png', 'Fig_106__t-5_molef-agno3_Transformed_size_1.538139e+01_.png', 'Fig_106__t-6_molef-agno3_Transformed_size_1.626916e+01_.png', 'Fig_106__t-7_molef-agno3_Transformed_size_1.710533e+01_.png', 'Fig_106__t-8_molef-agno3_Transformed_size_1.779314e+01_.png', 'Fig_106__t-9_molef-agno3_Transformed_size_1.845782e+01_.png', 'Fig_107__t-10_molef-agno3_Transformed_size_1.756514e+01_.png', 'Fig_107__t-11_molef-agno3_Transformed_size_1.812521e+01_.png', 'Fig_107__t-12_molef-agno3_Transformed_size_1.825005e+01_.png', 'Fig_107__t-13_molef-agno3_Transformed_size_1.891896e+01_.png', 'Fig_107__t-14_molef-agno3_Transformed_size_1.977783e+01_.png', 'Fig_107__t-15_molef-agno3_Transformed_size_2.027207e+01_.png', 'Fig_107__t-16_molef-agno3_Transformed_size_2.048762e+01_.png', 'Fig_107__t-17_molef-agno3_Transformed_size_2.063259e+01_.png', 'Fig_107__t-18_molef-agno3_Transformed_size_2.104888e+01_.png', 'Fig_107__t-19_molef-agno3_Transformed_size_2.178399e+01_.png', 'Fig_107__t-1_molef-agno3_Transformed_size_1.107741e+01_.png', 'Fig_107__t-20_molef-agno3_Transformed_size_2.243223e+01_.png', 'Fig_107__t-21_molef-agno3_Transformed_size_2.266890e+01_.png', 'Fig_107__t-22_molef-agno3_Transformed_size_2.279678e+01_.png', 'Fig_107__t-23_molef-agno3_Transformed_size_2.308502e+01_.png', 'Fig_107__t-24_molef-agno3_Transformed_size_2.350318e+01_.png', 'Fig_107__t-25_molef-agno3_Transformed_size_2.444388e+01_.png', 'Fig_107__t-26_molef-agno3_Transformed_size_2.474672e+01_.png', 'Fig_107__t-27_molef-agno3_Transformed_size_2.478885e+01_.png', 'Fig_107__t-28_molef-agno3_Transformed_size_2.496747e+01_.png', 'Fig_107__t-29_molef-agno3_Transformed_size_2.562456e+01_.png', 'Fig_107__t-2_molef-agno3_Transformed_size_1.354506e+01_.png', 'Fig_107__t-30_molef-agno3_Transformed_size_2.635295e+01_.png', 'Fig_107__t-31_molef-agno3_Transformed_size_2.663361e+01_.png', 'Fig_107__t-32_molef-agno3_Transformed_size_2.663959e+01_.png', 'Fig_107__t-33_molef-agno3_Transformed_size_2.680617e+01_.png', 'Fig_107__t-34_molef-agno3_Transformed_size_2.693602e+01_.png', 'Fig_107__t-35_molef-agno3_Transformed_size_2.792997e+01_.png', 'Fig_107__t-36_molef-agno3_Transformed_size_2.827115e+01_.png', 'Fig_107__t-37_molef-agno3_Transformed_size_2.843660e+01_.png', 'Fig_107__t-38_molef-agno3_Transformed_size_2.848304e+01_.png', 'Fig_107__t-39_molef-agno3_Transformed_size_2.883207e+01_.png', 'Fig_107__t-3_molef-agno3_Transformed_size_1.421975e+01_.png', 'Fig_107__t-40_molef-agno3_Transformed_size_2.935084e+01_.png', 'Fig_107__t-41_molef-agno3_Transformed_size_2.961048e+01_.png', 'Fig_107__t-42_molef-agno3_Transformed_size_2.966897e+01_.png', 'Fig_107__t-43_molef-agno3_Transformed_size_2.972040e+01_.png', 'Fig_107__t-44_molef-agno3_Transformed_size_3.042825e+01_.png', 'Fig_107__t-45_molef-agno3_Transformed_size_3.052306e+01_.png', 'Fig_107__t-46_molef-agno3_Transformed_size_3.072834e+01_.png', 'Fig_107__t-47_molef-agno3_Transformed_size_3.072937e+01_.png', 'Fig_107__t-48_molef-agno3_Transformed_size_3.049252e+01_.png', 'Fig_107__t-49_molef-agno3_Transformed_size_3.111790e+01_.png', 'Fig_107__t-4_molef-agno3_Transformed_size_1.487873e+01_.png', 'Fig_107__t-50_molef-agno3_Transformed_size_3.165225e+01_.png', 'Fig_107__t-5_molef-agno3_Transformed_size_1.536752e+01_.png', 'Fig_107__t-6_molef-agno3_Transformed_size_1.586065e+01_.png', 'Fig_107__t-7_molef-agno3_Transformed_size_1.631025e+01_.png', 'Fig_107__t-8_molef-agno3_Transformed_size_1.673682e+01_.png', 'Fig_107__t-9_molef-agno3_Transformed_size_1.722371e+01_.png', 'Fig_108__t-10_molef-agno3_Transformed_size_1.333329e+01_.png', 'Fig_108__t-11_molef-agno3_Transformed_size_1.335678e+01_.png', 'Fig_108__t-12_molef-agno3_Transformed_size_1.340188e+01_.png', 'Fig_108__t-13_molef-agno3_Transformed_size_1.342441e+01_.png', 'Fig_108__t-14_molef-agno3_Transformed_size_1.342341e+01_.png', 'Fig_108__t-15_molef-agno3_Transformed_size_1.354494e+01_.png', 'Fig_108__t-16_molef-agno3_Transformed_size_1.351307e+01_.png']\n",
    "\n",
    "def custom_sort_key(item):\n",
    "    # Extract numbers after 'Fig_' and 't-'\n",
    "    fig_number = float(item.split('Fig_')[1].split('__')[0])\n",
    "    t_number = float(item.split('t-')[1].split('_')[0])\n",
    "    \n",
    "    return fig_number, t_number\n",
    "\n",
    "# lst.sort(key=custom_sort_key)\n",
    "print(sorted(lst, key=custom_sort_key))\n"
   ]
  },
  {
   "cell_type": "code",
   "execution_count": null,
   "metadata": {},
   "outputs": [],
   "source": []
  }
 ],
 "metadata": {
  "kernelspec": {
   "display_name": "base",
   "language": "python",
   "name": "python3"
  },
  "language_info": {
   "codemirror_mode": {
    "name": "ipython",
    "version": 3
   },
   "file_extension": ".py",
   "mimetype": "text/x-python",
   "name": "python",
   "nbconvert_exporter": "python",
   "pygments_lexer": "ipython3",
   "version": "3.11.5"
  }
 },
 "nbformat": 4,
 "nbformat_minor": 2
}
