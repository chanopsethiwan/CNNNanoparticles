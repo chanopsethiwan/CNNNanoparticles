{
 "cells": [
  {
   "cell_type": "code",
   "execution_count": 2,
   "metadata": {},
   "outputs": [
    {
     "data": {
      "text/plain": [
       "177"
      ]
     },
     "execution_count": 2,
     "metadata": {},
     "output_type": "execute_result"
    }
   ],
   "source": [
    "filename = 'Fig_8__t-177_molef-agno3_Transformed_Size_8.080335e+00_'\n",
    "int(filename.split(\"t-\")[1].split(\"_\")[0])"
   ]
  },
  {
   "cell_type": "code",
   "execution_count": 5,
   "metadata": {},
   "outputs": [],
   "source": [
    "import os\n",
    "import shutil"
   ]
  },
  {
   "cell_type": "code",
   "execution_count": 4,
   "metadata": {},
   "outputs": [
    {
     "name": "stdout",
     "output_type": "stream",
     "text": [
      "Extraction and copy completed.\n"
     ]
    }
   ],
   "source": [
    "# Split input folder into two halves\n",
    "\n",
    "# Specify the input and output folders\n",
    "input_folder = r\"C:\\Users\\Public\\PartIIB project 2023_2024\\Image collection without reaction\\00AgNO3_mole_fraction\\Outputs_Grayscale_Labelled_Images_Sizes\\size_folder\"\n",
    "output_folder = r\"C:\\Users\\Public\\PartIIB project 2023_2024\\Image collection without reaction\\00AgNO3_mole_fraction\\Outputs_Grayscale_Labelled_Images_Sizes\\size_folder\\second_half\"\n",
    "\n",
    "# Ensure the output folder exists, create it if necessary\n",
    "os.makedirs(output_folder, exist_ok=True)\n",
    "\n",
    "# Loop through files in the input folder\n",
    "for filename in os.listdir(input_folder):\n",
    "    # Check if the file name contains the desired pattern\n",
    "    if \"t-\" in filename:\n",
    "        # Extract the number after \"t-\"\n",
    "        try:\n",
    "            t_number = int(filename.split(\"t-\")[1].split(\"_\")[0])\n",
    "            # Check if the number is between 1 and 100 (inclusive)\n",
    "            if 101 <= t_number <= 200:\n",
    "                # Build the full paths for input and output files\n",
    "                input_filepath = os.path.join(input_folder, filename)\n",
    "                output_filepath = os.path.join(output_folder, filename)\n",
    "                # Copy the file to the output folder\n",
    "                shutil.copy(input_filepath, output_filepath)\n",
    "        except (ValueError, IndexError):\n",
    "            # Handle cases where extraction or conversion fails\n",
    "            pass\n",
    "\n",
    "# Print a message indicating the process is complete\n",
    "print(\"Extraction and copy completed.\")\n"
   ]
  },
  {
   "cell_type": "code",
   "execution_count": null,
   "metadata": {},
   "outputs": [],
   "source": [
    "# Split input folder into a folder of 4 images sequence\n",
    "\n",
    "# Specify the input and output folders\n",
    "input_folder = r\"C:\\Users\\Public\\PartIIB project 2023_2024\\Image collection without reaction\\00AgNO3_mole_fraction\\Outputs_Grayscale_Labelled_Images_Sizes\\size_folder\"\n",
    "output_folder = r\"C:\\Users\\Public\\PartIIB project 2023_2024\\Image collection without reaction\\00AgNO3_mole_fraction\\Outputs_Grayscale_Labelled_Images_Sizes\\size_folder\\second_half\"\n",
    "\n",
    "# Ensure the output folder exists, create it if necessary\n",
    "os.makedirs(output_folder, exist_ok=True)\n",
    "\n",
    "# Loop through files in the input folder\n",
    "for filename in os.listdir(input_folder):\n",
    "    # Check if the file name contains the desired pattern\n",
    "    if \"t-\" in filename:\n",
    "        # Extract the number after \"t-\"\n",
    "        try:\n",
    "            t_number = int(filename.split(\"t-\")[1].split(\"_\")[0])\n",
    "            case_number = int(filename.split())\n",
    "            # Check if the number is between 1 and 50 (inclusive)\n",
    "            if 1 <= t_number <= 50:\n",
    "                # Make a new directory in the output folder \n",
    "                directory = filename\n",
    "                \n",
    "                # Build the full paths for input and output files\n",
    "                input_filepath = os.path.join(input_folder, filename)\n",
    "                output_filepath = os.path.join(output_folder, filename)\n",
    "                # Copy the file to the output folder\n",
    "                shutil.copy(input_filepath, output_filepath)\n",
    "        except (ValueError, IndexError):\n",
    "            # Handle cases where extraction or conversion fails\n",
    "            pass\n",
    "\n",
    "# Print a message indicating the process is complete\n",
    "print(\"Extraction and copy completed.\")"
   ]
  }
 ],
 "metadata": {
  "kernelspec": {
   "display_name": "base",
   "language": "python",
   "name": "python3"
  },
  "language_info": {
   "codemirror_mode": {
    "name": "ipython",
    "version": 3
   },
   "file_extension": ".py",
   "mimetype": "text/x-python",
   "name": "python",
   "nbconvert_exporter": "python",
   "pygments_lexer": "ipython3",
   "version": "3.11.5"
  }
 },
 "nbformat": 4,
 "nbformat_minor": 2
}
