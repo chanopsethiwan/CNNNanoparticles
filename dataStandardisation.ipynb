{
 "cells": [
  {
   "cell_type": "code",
   "execution_count": 1,
   "metadata": {},
   "outputs": [],
   "source": [
    "import os"
   ]
  },
  {
   "cell_type": "code",
   "execution_count": null,
   "metadata": {},
   "outputs": [],
   "source": [
    "from collections import defaultdict \n",
    "\n",
    "targetDir = r'C:\\Users\\Public\\PartIIB project 2023_2024\\Image collection without reaction\\00AgNO3_mole_fraction\\Outputs_Grayscale_Labelled_Images_Sizes\\size_folder3'\n",
    "\n",
    "def obtainSizeRange(targetDir, desiredInputNumber):\n",
    "    lstDir = os.listdir(targetDir)    \n",
    "    sizeDict = defaultdict(int)\n",
    "    for i in lstDir:\n",
    "        t_number = int(i.split(\"t-\")[1].split(\"_\")[0])\n",
    "        lowerT = 200 - (200/desiredInputNumber) + 1\n",
    "        if lowerT <= t_number <= 200:\n",
    "            size = float(i[-17:-5])\n",
    "            sizeRange = int(size*2)/2\n",
    "            sizeDict[sizeRange] += 1\n",
    "\n",
    "    print(sizeDict)\n",
    "    print(dict(sorted(sizeDict.items())))\n",
    "    print(dict(sorted(sizeDict.items(), key=lambda item: item[1])))\n",
    "\n",
    "obtainSizeRange(targetDir, 4)"
   ]
  }
 ],
 "metadata": {
  "kernelspec": {
   "display_name": "base",
   "language": "python",
   "name": "python3"
  },
  "language_info": {
   "codemirror_mode": {
    "name": "ipython",
    "version": 3
   },
   "file_extension": ".py",
   "mimetype": "text/x-python",
   "name": "python",
   "nbconvert_exporter": "python",
   "pygments_lexer": "ipython3",
   "version": "3.11.5"
  }
 },
 "nbformat": 4,
 "nbformat_minor": 2
}
