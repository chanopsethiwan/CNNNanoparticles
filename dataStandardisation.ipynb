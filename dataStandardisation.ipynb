{
 "cells": [
  {
   "cell_type": "code",
   "execution_count": 1,
   "metadata": {},
   "outputs": [],
   "source": []
  },
  {
   "cell_type": "code",
   "execution_count": 2,
   "metadata": {},
   "outputs": [
    {
     "name": "stdout",
     "output_type": "stream",
     "text": [
      "defaultdict(<class 'int'>, {7.0: 231, 8.0: 406, 7.5: 356, 13.0: 234, 12.5: 155, 24.0: 13, 24.5: 27, 25.0: 27, 4.5: 25, 5.0: 139, 32.0: 5, 31.5: 7, 31.0: 5, 30.5: 8, 30.0: 4, 29.5: 6, 29.0: 3, 28.5: 5, 28.0: 6, 27.5: 7, 27.0: 8, 26.5: 10, 26.0: 5, 25.5: 7, 23.5: 20, 23.0: 21, 22.5: 19, 22.0: 32, 21.5: 17, 21.0: 14, 33.5: 4, 33.0: 6, 32.5: 7, 17.5: 43, 17.0: 62, 16.5: 76, 16.0: 42, 15.5: 35, 12.0: 130, 11.5: 118, 11.0: 167, 10.5: 166, 10.0: 220, 20.5: 23, 20.0: 38, 19.5: 47, 19.0: 37, 18.5: 99, 18.0: 60, 15.0: 37, 14.5: 108, 14.0: 142, 6.0: 82, 6.5: 268, 8.5: 230, 9.5: 288, 9.0: 222, 2.0: 131, 5.5: 94, 2.5: 165, 4.0: 21, 1.0: 200, 13.5: 148, 0.5: 50, 3.5: 8, 3.0: 4})\n",
      "{0.5: 50, 1.0: 200, 2.0: 131, 2.5: 165, 3.0: 4, 3.5: 8, 4.0: 21, 4.5: 25, 5.0: 139, 5.5: 94, 6.0: 82, 6.5: 268, 7.0: 231, 7.5: 356, 8.0: 406, 8.5: 230, 9.0: 222, 9.5: 288, 10.0: 220, 10.5: 166, 11.0: 167, 11.5: 118, 12.0: 130, 12.5: 155, 13.0: 234, 13.5: 148, 14.0: 142, 14.5: 108, 15.0: 37, 15.5: 35, 16.0: 42, 16.5: 76, 17.0: 62, 17.5: 43, 18.0: 60, 18.5: 99, 19.0: 37, 19.5: 47, 20.0: 38, 20.5: 23, 21.0: 14, 21.5: 17, 22.0: 32, 22.5: 19, 23.0: 21, 23.5: 20, 24.0: 13, 24.5: 27, 25.0: 27, 25.5: 7, 26.0: 5, 26.5: 10, 27.0: 8, 27.5: 7, 28.0: 6, 28.5: 5, 29.0: 3, 29.5: 6, 30.0: 4, 30.5: 8, 31.0: 5, 31.5: 7, 32.0: 5, 32.5: 7, 33.0: 6, 33.5: 4}\n",
      "{29.0: 3, 30.0: 4, 33.5: 4, 3.0: 4, 32.0: 5, 31.0: 5, 28.5: 5, 26.0: 5, 29.5: 6, 28.0: 6, 33.0: 6, 31.5: 7, 27.5: 7, 25.5: 7, 32.5: 7, 30.5: 8, 27.0: 8, 3.5: 8, 26.5: 10, 24.0: 13, 21.0: 14, 21.5: 17, 22.5: 19, 23.5: 20, 23.0: 21, 4.0: 21, 20.5: 23, 4.5: 25, 24.5: 27, 25.0: 27, 22.0: 32, 15.5: 35, 19.0: 37, 15.0: 37, 20.0: 38, 16.0: 42, 17.5: 43, 19.5: 47, 0.5: 50, 18.0: 60, 17.0: 62, 16.5: 76, 6.0: 82, 5.5: 94, 18.5: 99, 14.5: 108, 11.5: 118, 12.0: 130, 2.0: 131, 5.0: 139, 14.0: 142, 13.5: 148, 12.5: 155, 2.5: 165, 10.5: 166, 11.0: 167, 1.0: 200, 10.0: 220, 9.0: 222, 8.5: 230, 7.0: 231, 13.0: 234, 6.5: 268, 9.5: 288, 7.5: 356, 8.0: 406}\n"
     ]
    }
   ],
   "source": [
    "import os\n",
    "from collections import defaultdict \n",
    "\n",
    "targetDir = r'C:\\Users\\Public\\PartIIB project 2023_2024\\Image collection without reaction\\00AgNO3_mole_fraction\\Outputs_Grayscale_Labelled_Images_Sizes\\size_folder3'\n",
    "\n",
    "def obtainSizeRange(targetDir, desiredInputNumber):\n",
    "    lstDir = os.listdir(targetDir)    \n",
    "    sizeDict = defaultdict(int)\n",
    "    for i in lstDir:\n",
    "        t_number = int(i.split(\"t-\")[1].split(\"_\")[0])\n",
    "        lowerT = 200 - (200/desiredInputNumber) + 1\n",
    "        if lowerT <= t_number <= 200:\n",
    "            size = float(i[-17:-5])\n",
    "            sizeRange = int(size*2)/2\n",
    "            sizeDict[sizeRange] += 1\n",
    "\n",
    "    print(sizeDict)\n",
    "    print(dict(sorted(sizeDict.items())))\n",
    "    print(dict(sorted(sizeDict.items(), key=lambda item: item[1])))\n",
    "\n",
    "obtainSizeRange(targetDir, 4)"
   ]
  },
  {
   "cell_type": "code",
   "execution_count": null,
   "metadata": {},
   "outputs": [],
   "source": []
  }
 ],
 "metadata": {
  "kernelspec": {
   "display_name": "base",
   "language": "python",
   "name": "python3"
  },
  "language_info": {
   "codemirror_mode": {
    "name": "ipython",
    "version": 3
   },
   "file_extension": ".py",
   "mimetype": "text/x-python",
   "name": "python",
   "nbconvert_exporter": "python",
   "pygments_lexer": "ipython3",
   "version": "3.11.5"
  }
 },
 "nbformat": 4,
 "nbformat_minor": 2
}
