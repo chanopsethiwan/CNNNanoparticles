{
 "cells": [
  {
   "cell_type": "code",
   "execution_count": 13,
   "metadata": {},
   "outputs": [
    {
     "name": "stdout",
     "output_type": "stream",
     "text": [
      "Extraction and copy completed.\n"
     ]
    }
   ],
   "source": [
    "import os\n",
    "import shutil\n",
    "\n",
    "\n",
    "input_folder = r\"/Users/kanintantinon/Desktop/AgNO3/superhelical_STD\"\n",
    "output_folder1 = r\"/Users/kanintantinon/Desktop/AgNO3/superhelical_STD/superhelical1\"\n",
    "output_folder2 = r\"/Users/kanintantinon/Desktop/AgNO3/superhelical_STD/superhelical2\"\n",
    "\n",
    "\n",
    "# Ensure the output folder exists, create it if necessary\n",
    "os.makedirs(output_folder1, exist_ok=True)\n",
    "os.makedirs(output_folder2, exist_ok=True)\n",
    "\n",
    "superhelical1 = [66,67,68,69,70,71,72,73,74,75,76,77,78,79,80,81,82,83,84,85,96,97,98,99,100,116,117,118,119,120]\n",
    "superhelical2 = [86,87,88,89,90,91,92,93,94,95,101,102,103,104,105]\n",
    "# straight = [137,138,139,140,141,142,143,144,145,146,147,148,149,150,151]\n",
    "superhelical = superhelical1 + superhelical2\n",
    "# Loop through files in the input folder\n",
    "for filename in os.listdir(input_folder):\n",
    "    # Check if the file name contains the desired pattern\n",
    "    # t_number = int(filename.split(\"t-\")[1].split(\"_\")[0])\n",
    "    # if \"Fig_\" in filename:\n",
    "    if not filename.startswith(\".\") and os.path.isfile(os.path.join(input_folder, filename)):\n",
    "        if filename.split(\"_\")[4] == 'molef-agno3':\n",
    "            try:\n",
    "                fig_number = int(filename.split(\"_\")[1])\n",
    "                # print(fig_number)\n",
    "                # Check if the number is between x and y (inclusive)\n",
    "                if fig_number in superhelical1:\n",
    "                    # Build the full paths for input and output files\n",
    "                    input_filepath = os.path.join(input_folder, filename)\n",
    "                    output_filepath1 = os.path.join(output_folder1, filename)\n",
    "                    # Copy the file to the output folder\n",
    "                    shutil.copy(input_filepath, output_filepath1)\n",
    "                if fig_number in superhelical2:\n",
    "                    input_filepath = os.path.join(input_folder, filename)\n",
    "                    output_filepath2 = os.path.join(output_folder2, filename)\n",
    "                    shutil.copy(input_filepath, output_filepath2)\n",
    "                else:\n",
    "                    continue\n",
    "            except (ValueError, IndexError):\n",
    "                # Handle cases where extraction or conversion fails\n",
    "                pass\n",
    "\n",
    "# Print a message indicating the process is complete\n",
    "print(\"Extraction and copy completed.\")"
   ]
  },
  {
   "cell_type": "code",
   "execution_count": 2,
   "metadata": {},
   "outputs": [
    {
     "name": "stdout",
     "output_type": "stream",
     "text": [
      "30\n"
     ]
    }
   ],
   "source": [
    "print(len(superhelical1))"
   ]
  },
  {
   "cell_type": "code",
   "execution_count": 14,
   "metadata": {},
   "outputs": [
    {
     "name": "stdout",
     "output_type": "stream",
     "text": [
      "17\n"
     ]
    }
   ],
   "source": [
    "superhelical1check = [66,68,69,70,71,72,73,75,76,77,78,80,81,82,83,85,100]\n",
    "print(len(check))\n",
    "# case 70 has 199 images for size\n",
    "# case 85 has 198 images for size69\n",
    "\n",
    "# case 70 has 199 images\n",
    "# case 85 has 199 images\n",
    "\n",
    "\n",
    "\n",
    "\n",
    "\n",
    "\n"
   ]
  },
  {
   "cell_type": "code",
   "execution_count": null,
   "metadata": {},
   "outputs": [],
   "source": []
  }
 ],
 "metadata": {
  "kernelspec": {
   "display_name": "Python 3",
   "language": "python",
   "name": "python3"
  },
  "language_info": {
   "codemirror_mode": {
    "name": "ipython",
    "version": 3
   },
   "file_extension": ".py",
   "mimetype": "text/x-python",
   "name": "python",
   "nbconvert_exporter": "python",
   "pygments_lexer": "ipython3",
   "version": "3.9.6"
  }
 },
 "nbformat": 4,
 "nbformat_minor": 2
}
