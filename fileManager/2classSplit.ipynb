import os
import shutil


input_folder = r"C:\Users\Public\PartIIB project 2023_2024\Image collection without reaction\00AgNO3_mole_fraction\Outputs_Grayscale_Labelled_Images_STdevs\size_folder2"
output_folder1 = r"C:\Users\Public\PartIIB project 2023_2024\Image collection without reaction\00AgNO3_mole_fraction\6ClassSTD\helical_1"
output_folder2 = r"C:\Users\Public\PartIIB project 2023_2024\Image collection without reaction\00AgNO3_mole_fraction\6ClassSTD\helical_1_mod"
output_folder3 = r"C:\Users\Public\PartIIB project 2023_2024\Image collection without reaction\00AgNO3_mole_fraction\6ClassSTD\helical_2"
output_folder4 = r"C:\Users\Public\PartIIB project 2023_2024\Image collection without reaction\00AgNO3_mole_fraction\6ClassSTD\helical_3"
output_folder5 = r"C:\Users\Public\PartIIB project 2023_2024\Image collection without reaction\00AgNO3_mole_fraction\6ClassSTD\superhelical_1"
output_folder6 = r"C:\Users\Public\PartIIB project 2023_2024\Image collection without reaction\00AgNO3_mole_fraction\6ClassSTD\superhelical_2"
output_folder7 = r"C:\Users\Public\PartIIB project 2023_2024\Image collection without reaction\00AgNO3_mole_fraction\Outputs_Grayscale_Labelled_Images_STdevs\size_folder2\helical"
output_folder8 = r"C:\Users\Public\PartIIB project 2023_2024\Image collection without reaction\00AgNO3_mole_fraction\Outputs_Grayscale_Labelled_Images_STdevs\size_folder2\superhelical"

# Ensure the output folder exists, create it if necessary
os.makedirs(output_folder1, exist_ok=True)
os.makedirs(output_folder2, exist_ok=True)
os.makedirs(output_folder3, exist_ok=True)
os.makedirs(output_folder4, exist_ok=True)
os.makedirs(output_folder5, exist_ok=True)
os.makedirs(output_folder6, exist_ok=True)
os.makedirs(output_folder7, exist_ok=True)
os.makedirs(output_folder8, exist_ok=True)
helical1 = [1,2,3,4,5,6,7,8,9,10,11,12,13,14,15,16,17,18,19,20,21,22,23,24,25]
helical1_mod = [121,122,123,124,125,126,127,128,129,130,131,132,133,134,135,136]
helical2 = [26,27,28,29,30,31,32,33,34,35,36,37,38,39,40,41,42,43,44,45,106,107,108,109,110]
helical3 = [46,47,48,49,50,51,52,53,54,55,56,57,58,59,60,61,62,63,64,65,111,112,113,114,115]
superhelical1 = [66,67,68,69,70,71,72,73,74,75,76,77,78,79,80,81,82,83,84,85,96,97,98,99,100,116,117,118,119,120]
superhelical2 = [86,87,88,89,90,91,92,93,94,95,101,102,103,104,105]
# straight = [137,138,139,140,141,142,143,144,145,146,147,148,149,150,151]
helical = helical1 + helical1_mod + helical2 + helical3
superhelical = superhelical1 + superhelical2
# Loop through files in the input folder
for filename in os.listdir(input_folder):
    # Check if the file name contains the desired pattern
    # t_number = int(filename.split("t-")[1].split("_")[0])
    # if "Fig_" in filename:
    if filename.split("_")[4] == 'molef-agno3':
        try:
            fig_number = int(filename.split("_")[1])
            # print(fig_number)
            # Check if the number is between x and y (inclusive)
            if fig_number in helical1:
                # Build the full paths for input and output files
                input_filepath = os.path.join(input_folder, filename)
                output_filepath1 = os.path.join(output_folder1, filename)
                # Copy the file to the output folder
                shutil.copy(input_filepath, output_filepath1)
            if fig_number in helical1_mod:
                input_filepath = os.path.join(input_folder, filename)
                output_filepath2 = os.path.join(output_folder2, filename)
                shutil.copy(input_filepath, output_filepath2)
            if fig_number in helical2:
                input_filepath = os.path.join(input_folder, filename)
                output_filepath3 = os.path.join(output_folder3, filename)
                shutil.copy(input_filepath, output_filepath3)
            if fig_number in helical3:
                input_filepath = os.path.join(input_folder, filename)
                output_filepath4 = os.path.join(output_folder4, filename)
                shutil.copy(input_filepath, output_filepath4)
            if fig_number in superhelical1:
                input_filepath = os.path.join(input_folder, filename)
                output_filepath5 = os.path.join(output_folder5, filename)
                shutil.copy(input_filepath, output_filepath5)
            if fig_number in superhelical2:
                input_filepath = os.path.join(input_folder, filename)
                output_filepath6 = os.path.join(output_folder6, filename)
                shutil.copy(input_filepath, output_filepath6)
            if fig_number in helical:
                input_filepath = os.path.join(input_folder, filename)
                output_filepath7 = os.path.join(output_folder7, filename)
                shutil.copy(input_filepath, output_filepath7)
            if fig_number in superhelical:
                input_filepath = os.path.join(input_folder, filename)
                output_filepath8 = os.path.join(output_folder8, filename)
                shutil.copy(input_filepath, output_filepath8)
            else:
                continue
        except (ValueError, IndexError):
            # Handle cases where extraction or conversion fails
            pass

# Print a message indicating the process is complete
print("Extraction and copy completed.")